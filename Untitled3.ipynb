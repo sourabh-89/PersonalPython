{
 "cells": [
  {
   "cell_type": "code",
   "execution_count": 65,
   "id": "e8faf023-13bd-4eec-b4d9-d00649d0ec8d",
   "metadata": {},
   "outputs": [],
   "source": [
    "from datetime import date,datetime,timedelta\n",
    "from faker import Faker\n",
    "import random\n",
    "import xlsxwriter\n",
    "fake=Faker()"
   ]
  },
  {
   "cell_type": "code",
   "execution_count": 73,
   "id": "6e7d37bd-f742-435a-aaf2-e5e263f26277",
   "metadata": {},
   "outputs": [],
   "source": [
    "invoiceNumber=10000\n",
    "rowindex=2"
   ]
  },
  {
   "cell_type": "code",
   "execution_count": 74,
   "id": "9f93f089-6111-41d1-baab-6e6af83f729d",
   "metadata": {},
   "outputs": [
    {
     "data": {
      "text/plain": [
       "0"
      ]
     },
     "execution_count": 74,
     "metadata": {},
     "output_type": "execute_result"
    }
   ],
   "source": [
    "workbook=xlsxwriter.Workbook(\"./FakeData.xlsx\")\n",
    "worksheet=workbook.add_worksheet(\"Fake_data_experiment\")\n",
    "worksheet.write(\"A1\",\"Name\")\n",
    "worksheet.write(\"B1\",\"Invoice Number\")\n",
    "worksheet.write(\"C1\",\"PO Number\")\n",
    "worksheet.write(\"D1\",\"Invoice Date\")\n",
    "worksheet.write(\"E1\", \"Net Due date\")\n",
    "worksheet.write(\"F1\",\"Open Amount\")\n",
    "worksheet.write(\"G1\",\"Currency\")\n",
    "worksheet.write(\"H1\",\"Preferred Language\")\n",
    "worksheet.write(\"I1\",\"Customer Region\")"
   ]
  },
  {
   "cell_type": "code",
   "execution_count": 75,
   "id": "dcf93c79-3b50-42a3-8c79-538f3010b603",
   "metadata": {},
   "outputs": [
    {
     "name": "stdout",
     "output_type": "stream",
     "text": [
      "Brett Stanley 10001 54684 2022-12-27 2023-01-17 86190 ('HUF', 'Hungarian forint') Georgian Singapore\n",
      "Jacqueline Villarreal 10002 52464 2023-06-30 2023-07-04 88440 ('EUR', 'Euro') Welsh Bahamas\n",
      "Tonya Garner 10003 98027 2023-03-11 2023-03-15 27780 ('BND', 'Brunei dollar') Persian Solomon Islands\n",
      "Kathryn Harris 10004 67928 2023-07-10 2023-08-03 27400 ('JPY', 'Japanese yen') Kongo Congo\n",
      "Sarah Anderson 10005 41222 2023-08-27 2023-09-17 89750 ('SZL', 'Swazi lilangeni') Albanian Mexico\n",
      "Stephen Cummings 10006 91968 2022-11-09 2022-12-07 15040 ('CUP', 'Cuban peso') Avaric Israel\n",
      "Victoria Hernandez 10007 34216 2023-02-03 2023-02-09 7950 ('VND', 'Vietnamese đồng') Fijian United Kingdom\n",
      "Evelyn Andrews 10008 33991 2023-07-15 2023-08-02 50390 ('BGN', 'Bulgarian lev') Portuguese Uzbekistan\n",
      "Robert Brown 10009 23374 2022-12-26 2023-01-16 35070 ('ERN', 'Eritrean nakfa') Danish China\n",
      "Karen Morrow 10010 21076 2022-10-02 2022-10-23 91110 ('MMK', 'Burmese kyat') Danish Saint Barthelemy\n",
      "Mark Nelson 10011 68512 2023-06-20 2023-07-06 93960 ('RWF', 'Rwandan franc') Kikuyu Yemen\n",
      "Douglas Washington 10012 78311 2022-12-01 2022-12-19 24400 ('BRL', 'Brazilian real') Kirghiz Timor-Leste\n",
      "Kyle Myers 10013 36761 2022-09-20 2022-10-12 73680 ('JMD', 'Jamaican dollar') Latvian Tanzania\n",
      "Stephen Coffey 10014 99864 2022-10-20 2022-11-07 47570 ('HNL', 'Honduran lempira') Javanese French Polynesia\n",
      "Michelle Torres 10015 39231 2022-10-10 2022-10-22 38660 ('HNL', 'Honduran lempira') Hiri Motu Nauru\n",
      "Micheal King 10016 45197 2023-07-16 2023-07-25 77560 ('CRC', 'Costa Rican colón') Sichuan Yi Aruba\n",
      "Jonathan Gonzalez 10017 36876 2023-03-12 2023-03-24 32680 ('MVR', 'Maldivian rufiyaa') Danish Saint Martin\n",
      "Mr. Marvin Edwards 10018 92565 2023-04-11 2023-04-23 42530 ('MKD', 'Macedonian denar') Bashkir Antigua and Barbuda\n",
      "James Barrett 10019 70208 2023-03-13 2023-04-01 45750 ('CVE', 'Cape Verdean escudo') Limburgan Saudi Arabia\n",
      "Tara Nunez 10020 64626 2023-07-18 2023-08-17 37390 ('GIP', 'Gibraltar pound') Bengali Dominican Republic\n",
      "Anthony Johnson 10021 39022 2023-01-15 2023-02-06 44300 ('TWD', 'New Taiwan dollar') Polish Qatar\n",
      "Tiffany Williams 10022 90515 2022-11-17 2022-12-11 88660 ('UGX', 'Ugandan shilling') Finnish China\n",
      "Sara Stephens 10023 53677 2022-10-02 2022-10-09 38480 ('QAR', 'Qatari riyal') Kinyarwanda Bouvet Island (Bouvetoya)\n",
      "Linda Richard 10024 39388 2022-12-09 2022-12-13 92690 ('QAR', 'Qatari riyal') Malay Palau\n",
      "Julie Parker 10025 54403 2023-06-06 2023-06-16 31990 ('PYG', 'Paraguayan guarani') Afrikaans United States Minor Outlying Islands\n",
      "Sheri Petersen 10026 33917 2023-06-17 2023-07-05 77090 ('NOK', 'Norwegian krone') Tajik Thailand\n",
      "Jennifer Wilson 10027 12511 2022-09-25 2022-10-10 38090 ('KMF', 'Comorian franc') Kannada Guam\n",
      "Matthew Farmer 10028 96194 2022-09-01 2022-09-04 38160 ('KZT', 'Kazakhstani tenge') Ganda Togo\n",
      "James Wheeler 10029 14150 2023-01-04 2023-01-19 83230 ('PLN', 'Polish zloty') Aymara Cuba\n",
      "Gabriel Ramirez 10030 13733 2022-09-21 2022-09-24 51180 ('EGP', 'Egyptian pound') Panjabi Timor-Leste\n",
      "Kevin Jones 10031 80222 2022-09-30 2022-10-14 88890 ('BOB', 'Bolivian boliviano') Twi Kazakhstan\n",
      "Jennifer Smith 10032 14097 2023-01-09 2023-01-16 28240 ('GMD', 'Gambian dalasi') Sindhi Estonia\n",
      "George Owen 10033 51573 2022-09-16 2022-10-12 16250 ('VEF', 'Venezuelan bolívar') North Ndebele Tajikistan\n",
      "Danny Howard 10034 52552 2023-01-21 2023-01-31 14560 ('SRD', 'Surinamese dollar') Kalaallisut Iceland\n",
      "Amber Carlson 10035 57341 2022-11-17 2022-12-14 27270 ('TRY', 'Turkish lira') Lingala Cook Islands\n",
      "Mark Williams 10036 34522 2023-02-15 2023-03-14 56310 ('CHF', 'Swiss franc') Twi Saint Vincent and the Grenadines\n",
      "Shawn Odonnell 10037 70443 2023-04-19 2023-05-04 56590 ('HUF', 'Hungarian forint') Marshallese Antarctica (the territory South of 60 deg S)\n",
      "John Dillon 10038 69242 2022-09-05 2022-09-11 43660 ('NZD', 'New Zealand dollar') Lithuanian Myanmar\n",
      "Teresa Boyd 10039 61144 2022-09-15 2022-09-25 23340 ('JMD', 'Jamaican dollar') Chamorro Switzerland\n",
      "David Santiago 10040 13089 2023-06-21 2023-07-02 31430 ('SCR', 'Seychellois rupee') Kikuyu Gambia\n",
      "Amy Colon 10041 87354 2023-06-09 2023-06-11 35790 ('UGX', 'Ugandan shilling') Guarani Cameroon\n",
      "Stephanie Rose 10042 95850 2022-10-18 2022-11-11 14160 ('DOP', 'Dominican peso') Belarusian Isle of Man\n",
      "Donald Matthews 10043 45682 2022-10-13 2022-10-27 52840 ('ZWD', 'Zimbabwean dollar') Belarusian Comoros\n",
      "Jeffrey Harrington 10044 12668 2023-03-09 2023-03-12 92100 ('QAR', 'Qatari riyal') Belarusian Dominica\n",
      "Mary Thompson 10045 96278 2023-03-09 2023-03-14 18510 ('HKD', 'Hong Kong dollar') Ossetian Maldives\n",
      "Michael Butler 10046 87732 2023-03-17 2023-03-21 73580 ('GEL', 'Georgian lari') Lingala Saint Martin\n",
      "Jacob Williams 10047 11325 2023-02-10 2023-02-25 73310 ('CZK', 'Czech koruna') Kirghiz Norway\n",
      "Jennifer King 10048 94431 2023-02-05 2023-02-15 79460 ('ARS', 'Argentine peso') Breton Brunei Darussalam\n",
      "Christopher Jensen 10049 56749 2023-04-04 2023-04-16 1330 ('PAB', 'Panamanian balboa') Romansh Paraguay\n",
      "Brian Scott 10050 62796 2023-05-26 2023-06-25 16480 ('GIP', 'Gibraltar pound') Norwegian Swaziland\n",
      "Katherine Oliver 10051 47915 2023-02-13 2023-02-15 8910 ('SAR', 'Saudi riyal') Tajik Nepal\n",
      "Mary Kennedy 10052 90373 2023-03-12 2023-03-30 49750 ('HUF', 'Hungarian forint') Croatian Solomon Islands\n",
      "Dylan Orr 10053 52098 2023-06-21 2023-07-21 30430 ('KES', 'Kenyan shilling') Kashmiri Australia\n",
      "Alexandra Vance 10054 49031 2023-02-24 2023-03-21 19160 ('CUP', 'Cuban peso') German Chile\n",
      "Jamie Mejia 10055 11408 2023-02-19 2023-02-24 35470 ('BRL', 'Brazilian real') Tagalog Sri Lanka\n",
      "Autumn Nielsen 10056 94523 2023-07-18 2023-07-26 51290 ('CDF', 'Congolese franc') Kazakh Gibraltar\n",
      "Scott Hayes 10057 12221 2023-07-10 2023-07-29 33840 ('EGP', 'Egyptian pound') Czech Afghanistan\n",
      "Joseph Davis 10058 67153 2023-02-08 2023-03-10 3920 ('CUP', 'Cuban peso') Afar United States of America\n",
      "Brandy Golden 10059 69766 2023-05-12 2023-06-11 24080 ('DJF', 'Djiboutian franc') Marshallese Guinea\n",
      "Brian Ingram 10060 19435 2023-07-03 2023-07-22 56000 ('ARS', 'Argentine peso') Persian Puerto Rico\n",
      "William Brown 10061 97747 2023-01-20 2023-01-26 54070 ('ALL', 'Albanian lek') Xhosa Antarctica (the territory South of 60 deg S)\n",
      "Katelyn Osborn 10062 88553 2023-08-07 2023-08-10 5610 ('WST', 'Samoan tālā') Macedonian French Southern Territories\n",
      "Robin Deleon DDS 10063 51717 2022-11-16 2022-12-14 8710 ('JOD', 'Jordanian dinar') Fulah Taiwan\n",
      "Brandi Bush 10064 30732 2023-01-15 2023-01-31 50650 ('HNL', 'Honduran lempira') Cree Samoa\n",
      "Robin Graham 10065 63651 2023-07-25 2023-08-02 96400 ('GIP', 'Gibraltar pound') Nepali Georgia\n",
      "Deborah Alvarez 10066 83605 2023-05-05 2023-05-09 29940 ('LKR', 'Sri Lankan rupee') Croatian India\n",
      "Derek Mason 10067 79566 2022-11-27 2022-12-23 91720 ('PLN', 'Polish zloty') Akan Sri Lanka\n",
      "Susan Rodriguez 10068 37467 2023-01-03 2023-01-05 23470 ('COP', 'Colombian peso') Sanskrit Kiribati\n",
      "Traci Wilson 10069 86439 2022-10-25 2022-11-19 41800 ('KHR', 'Cambodian riel') Indonesian Marshall Islands\n",
      "John Thomas 10070 21869 2023-06-27 2023-07-27 25930 ('AED', 'United Arab Emirates dirham') Malay Norfolk Island\n",
      "Teresa Taylor 10071 39495 2023-01-06 2023-01-14 45010 ('VND', 'Vietnamese đồng') Russian Zambia\n",
      "Grace Patel 10072 14439 2023-04-02 2023-04-04 56760 ('ARS', 'Argentine peso') Serbian Solomon Islands\n",
      "Lori Smith 10073 13659 2023-04-19 2023-04-26 78650 ('TOP', 'Tongan paʻanga') Pushto Cape Verde\n",
      "Gabriel Villa 10074 73894 2023-07-24 2023-08-21 7250 ('LKR', 'Sri Lankan rupee') Azerbaijani Saint Vincent and the Grenadines\n",
      "Aaron Berry 10075 61102 2023-05-31 2023-06-23 82940 ('BTN', 'Bhutanese ngultrum') Fulah Cook Islands\n",
      "David Price 10076 32374 2023-04-01 2023-05-01 60480 ('MDL', 'Moldovan leu') Dutch Australia\n",
      "Robert Grant 10077 51251 2023-08-08 2023-08-09 82230 ('IDR', 'Indonesian rupiah') Swati Liberia\n",
      "Gerald Herrera 10078 58918 2023-01-12 2023-02-02 95920 ('MMK', 'Burmese kyat') Bosnian Luxembourg\n",
      "Robert Curtis 10079 36911 2023-01-22 2023-01-24 25120 ('TZS', 'Tanzanian shilling') Fijian Israel\n",
      "Dakota Wood 10080 65716 2022-10-19 2022-11-11 17380 ('INR', 'Indian rupee') Igbo Burkina Faso\n",
      "Grant Hoover 10081 26023 2022-12-27 2022-12-30 19970 ('BGN', 'Bulgarian lev') Uighur Togo\n",
      "Sherry Austin 10082 57683 2022-10-06 2022-11-03 56170 ('YER', 'Yemeni rial') Armenian Solomon Islands\n",
      "Cheyenne Lozano 10083 50483 2023-07-17 2023-07-27 27950 ('BYR', 'Belarusian ruble') Bihari languages Chile\n",
      "Whitney Jenkins 10084 23720 2022-09-19 2022-09-23 94520 ('LBP', 'Lebanese pound') Romanian Tanzania\n",
      "Tara Fox 10085 76136 2023-02-16 2023-02-26 82250 ('DOP', 'Dominican peso') Lao Brazil\n",
      "Jennifer Weber 10086 42112 2023-02-26 2023-03-01 28630 ('SHP', 'Saint Helena pound') Inuktitut Holy See (Vatican City State)\n",
      "Barry Johnson 10087 54657 2022-12-18 2022-12-20 50630 ('RUB', 'Russian ruble') Rundi San Marino\n",
      "Mrs. Brandy Gallegos 10088 62095 2023-08-07 2023-08-24 68340 ('CDF', 'Congolese franc') Romanian Albania\n",
      "Ashley Kramer 10089 62448 2023-05-05 2023-05-16 64120 ('SZL', 'Swazi lilangeni') Basque Liberia\n",
      "Brent Chaney 10090 71052 2023-05-07 2023-05-13 15930 ('LSL', 'Lesotho loti') Kalaallisut Cook Islands\n",
      "Morgan Hughes 10091 62127 2022-10-31 2022-11-16 8750 ('NAD', 'Namibian dollar') Interlingua Jordan\n",
      "Angela Barnett 10092 81623 2022-11-02 2022-12-02 71080 ('USD', 'United States dollar') Ewe Niger\n",
      "Carol Bright 10093 13917 2022-12-11 2023-01-01 87530 ('PAB', 'Panamanian balboa') Sardinian Pakistan\n",
      "Timothy Stephens 10094 94464 2022-10-18 2022-11-10 15710 ('KMF', 'Comorian franc') Slovak Honduras\n",
      "John Diaz 10095 15205 2022-12-17 2022-12-24 19820 ('BWP', 'Botswana pula') Chichewa Germany\n",
      "Cameron Williams 10096 61037 2023-07-03 2023-07-06 64450 ('DOP', 'Dominican peso') Ewe Spain\n",
      "Debra Williams 10097 82146 2022-10-14 2022-10-15 6980 ('KMF', 'Comorian franc') Walloon Fiji\n",
      "Anthony Washington 10098 83413 2023-07-16 2023-08-10 10020 ('PAB', 'Panamanian balboa') Chinese Guam\n",
      "Brittany York 10099 73099 2022-11-01 2022-11-13 95610 ('KWD', 'Kuwaiti dinar') Armenian Papua New Guinea\n"
     ]
    }
   ],
   "source": [
    "for x in range(1,100):\n",
    "    name=fake.name()\n",
    "    invoiceNumber=invoiceNumber+1\n",
    "    productOrder=random.randint(100,1000)+random.randint(10000,100000)\n",
    "    InvoiceDate=fake.date_between_dates(\"-1y\",\"now\")\n",
    "    Net_due_date=(datetime.combine(InvoiceDate, datetime.min.time())+timedelta(days=30+random.randint(1,30))).date()\n",
    "    Open_amount=fake.random_int()*10\n",
    "    Currency=fake.currency()\n",
    "    Preferred_language=fake.language_name()\n",
    "    Customer_region=fake.country()\n",
    "    worksheet.write(\"A\"+str(rowindex),name)\n",
    "    worksheet.write(\"B\"+str(rowindex),invoiceNumber)\n",
    "    worksheet.write(\"C\"+str(rowindex),productOrder)\n",
    "    worksheet.write(\"D\"+str(rowindex),str(InvoiceDate))\n",
    "    worksheet.write(\"E\"+str(rowindex),str(Net_due_date))\n",
    "    worksheet.write(\"F\"+str(rowindex),Open_amount)\n",
    "    worksheet.write(\"G\"+str(rowindex),str(Currency))\n",
    "    worksheet.write(\"H\"+str(rowindex), Preferred_language)\n",
    "    worksheet.write(\"I\"+str(rowindex),Customer_region)\n",
    "    rowindex += 1\n",
    "\n",
    "    print(name, invoiceNumber, productOrder, InvoiceDate, Net_due_date, Open_amount, Currency, Preferred_language, Customer_region)"
   ]
  },
  {
   "cell_type": "code",
   "execution_count": 76,
   "id": "bb1c4009-ecbe-4d2e-8140-7fc093110a34",
   "metadata": {},
   "outputs": [],
   "source": [
    "workbook.close()"
   ]
  },
  {
   "cell_type": "code",
   "execution_count": 64,
   "id": "061d7907-890e-47c6-a235-77dc3aecc11d",
   "metadata": {},
   "outputs": [
    {
     "name": "stdout",
     "output_type": "stream",
     "text": [
      "2023-09-13\n"
     ]
    }
   ],
   "source": [
    "Net_due_date=(datetime.combine(InvoiceDate, datetime.min.time())+timedelta(days=random.randint(1,30))).date()\n",
    "print(Net_due_date)"
   ]
  },
  {
   "cell_type": "code",
   "execution_count": 97,
   "id": "28ed5d69-499f-4f29-870b-bc615070e976",
   "metadata": {},
   "outputs": [
    {
     "name": "stdout",
     "output_type": "stream",
     "text": [
      "2023-01-19\n"
     ]
    }
   ],
   "source": [
    "InvoiceDate=fake.date_between_dates(datetime.strptime(\"2023-01-01\",\"%Y-%m-%d\").date(),\"now\")\n",
    "print(InvoiceDate)"
   ]
  },
  {
   "cell_type": "code",
   "execution_count": 95,
   "id": "bd9f08b3-2dea-473e-bc2a-2a1479a5d295",
   "metadata": {},
   "outputs": [
    {
     "name": "stdout",
     "output_type": "stream",
     "text": [
      "2023-01-01\n"
     ]
    }
   ],
   "source": [
    "print(datetime.now().date().replace(month=1, day=1))"
   ]
  },
  {
   "cell_type": "code",
   "execution_count": 86,
   "id": "16ddd874-58b7-4864-9fd2-d884602f7597",
   "metadata": {},
   "outputs": [
    {
     "name": "stdout",
     "output_type": "stream",
     "text": [
      "now\n"
     ]
    }
   ],
   "source": [
    "print(fake.date(\"now\"))"
   ]
  },
  {
   "cell_type": "code",
   "execution_count": 93,
   "id": "c8f7f348-37be-4cbf-9ac5-482dbd19f83b",
   "metadata": {},
   "outputs": [
    {
     "name": "stdout",
     "output_type": "stream",
     "text": [
      "2023-01-01\n"
     ]
    }
   ],
   "source": [
    "print(datetime.strptime(\"2023-01-01\",\"%Y-%m-%d\").date())"
   ]
  },
  {
   "cell_type": "code",
   "execution_count": null,
   "id": "1ee2168e-600c-4703-8a76-efef775fea76",
   "metadata": {},
   "outputs": [],
   "source": []
  }
 ],
 "metadata": {
  "kernelspec": {
   "display_name": "Python 3 (ipykernel)",
   "language": "python",
   "name": "python3"
  },
  "language_info": {
   "codemirror_mode": {
    "name": "ipython",
    "version": 3
   },
   "file_extension": ".py",
   "mimetype": "text/x-python",
   "name": "python",
   "nbconvert_exporter": "python",
   "pygments_lexer": "ipython3",
   "version": "3.11.4"
  }
 },
 "nbformat": 4,
 "nbformat_minor": 5
}
